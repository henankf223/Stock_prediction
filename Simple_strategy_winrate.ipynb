{
 "cells": [
  {
   "cell_type": "code",
   "execution_count": 33,
   "id": "9bf9a100",
   "metadata": {},
   "outputs": [
    {
     "name": "stdout",
     "output_type": "stream",
     "text": [
      "[*********************100%***********************]  1 of 1 completed\n",
      "Win rate betting on price rise after x consecutive drops: 0.00%\n",
      "Win rate betting on price drop after x consecutive rises: 0.00%\n"
     ]
    }
   ],
   "source": [
    "import yfinance as yf\n",
    "import pandas as pd\n",
    "import datetime as dt\n",
    "\n",
    "# Define the parameters\n",
    "ticker = 'SPY'  # Replace with the desired stock ticker\n",
    "N = 120  # Number of months\n",
    "x = 2  # Number of consecutive price rise or drop\n",
    "\n",
    "# Fetch stock price data\n",
    "end_date = dt.date.today()\n",
    "start_date = end_date - pd.DateOffset(months=N)\n",
    "data = yf.download(ticker, start=start_date, end=end_date)\n",
    "\n",
    "# Define the function to identify x consecutive price rise or drop\n",
    "def consecutive_rise_or_drop(prices, x):\n",
    "    rise_count, drop_count = 0, 0\n",
    "\n",
    "    for i in range(1, len(prices)):\n",
    "        if prices[i] > prices[i - 1]:\n",
    "            rise_count += 1\n",
    "            drop_count = 0\n",
    "        elif prices[i] < prices[i - 1]:\n",
    "            drop_count += 1\n",
    "            rise_count = 0\n",
    "        else:\n",
    "            rise_count, drop_count = 0, 0\n",
    "\n",
    "        if rise_count == x:\n",
    "            return 'rise'\n",
    "        elif drop_count == x:\n",
    "            return 'drop'\n",
    "\n",
    "    return None\n",
    "\n",
    "# Apply the trading strategy and calculate win rates\n",
    "win_count_rise, win_count_drop = 0, 0\n",
    "total_count_rise, total_count_drop = 0, 0\n",
    "\n",
    "for i in range(x - 1, len(data) - 2):\n",
    "    result = consecutive_rise_or_drop(data['Close'].iloc[i - x + 1 : i + 1].tolist(), x)\n",
    "\n",
    "    if result == 'rise':\n",
    "        total_count_drop += 1\n",
    "        if data['Close'][i + 1] < data['Close'][i]:\n",
    "            win_count_drop += 1\n",
    "    elif result == 'drop':\n",
    "        total_count_rise += 1\n",
    "        if data['Close'][i + 1] > data['Close'][i]:\n",
    "            win_count_rise += 1\n",
    "\n",
    "win_rate_rise = win_count_rise / total_count_rise if total_count_rise > 0 else 0\n",
    "win_rate_drop = win_count_drop / total_count_drop if total_count_drop > 0 else 0\n",
    "\n",
    "print(\"Win rate betting on price rise after x consecutive drops: {:.2%}\".format(win_rate_rise))\n",
    "print(\"Win rate betting on price drop after x consecutive rises: {:.2%}\".format(win_rate_drop))"
   ]
  },
  {
   "cell_type": "code",
   "execution_count": null,
   "id": "82ea6ef8",
   "metadata": {},
   "outputs": [],
   "source": []
  }
 ],
 "metadata": {
  "kernelspec": {
   "display_name": "Python 3 (ipykernel)",
   "language": "python",
   "name": "python3"
  },
  "language_info": {
   "codemirror_mode": {
    "name": "ipython",
    "version": 3
   },
   "file_extension": ".py",
   "mimetype": "text/x-python",
   "name": "python",
   "nbconvert_exporter": "python",
   "pygments_lexer": "ipython3",
   "version": "3.10.9"
  }
 },
 "nbformat": 4,
 "nbformat_minor": 5
}
