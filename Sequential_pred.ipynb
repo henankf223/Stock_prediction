{
 "cells": [
  {
   "cell_type": "code",
   "execution_count": 27,
   "id": "e83067a1",
   "metadata": {},
   "outputs": [
    {
     "name": "stderr",
     "output_type": "stream",
     "text": [
      "C:\\Users\\Forec\\AppData\\Local\\Temp\\ipykernel_5496\\1057259317.py:36: PerformanceWarning:\n",
      "\n",
      "DataFrame is highly fragmented.  This is usually the result of calling `frame.insert` many times, which has poor performance.  Consider joining all columns at once using pd.concat(axis=1) instead. To get a de-fragmented frame, use `newframe = frame.copy()`\n",
      "\n",
      "C:\\Users\\Forec\\AppData\\Local\\Temp\\ipykernel_5496\\1057259317.py:37: PerformanceWarning:\n",
      "\n",
      "DataFrame is highly fragmented.  This is usually the result of calling `frame.insert` many times, which has poor performance.  Consider joining all columns at once using pd.concat(axis=1) instead. To get a de-fragmented frame, use `newframe = frame.copy()`\n",
      "\n",
      "C:\\Users\\Forec\\AppData\\Local\\Temp\\ipykernel_5496\\1057259317.py:33: PerformanceWarning:\n",
      "\n",
      "DataFrame is highly fragmented.  This is usually the result of calling `frame.insert` many times, which has poor performance.  Consider joining all columns at once using pd.concat(axis=1) instead. To get a de-fragmented frame, use `newframe = frame.copy()`\n",
      "\n",
      "C:\\Users\\Forec\\AppData\\Local\\Temp\\ipykernel_5496\\1057259317.py:34: PerformanceWarning:\n",
      "\n",
      "DataFrame is highly fragmented.  This is usually the result of calling `frame.insert` many times, which has poor performance.  Consider joining all columns at once using pd.concat(axis=1) instead. To get a de-fragmented frame, use `newframe = frame.copy()`\n",
      "\n",
      "C:\\Users\\Forec\\AppData\\Local\\Temp\\ipykernel_5496\\1057259317.py:35: PerformanceWarning:\n",
      "\n",
      "DataFrame is highly fragmented.  This is usually the result of calling `frame.insert` many times, which has poor performance.  Consider joining all columns at once using pd.concat(axis=1) instead. To get a de-fragmented frame, use `newframe = frame.copy()`\n",
      "\n",
      "C:\\Users\\Forec\\AppData\\Local\\Temp\\ipykernel_5496\\1057259317.py:36: PerformanceWarning:\n",
      "\n",
      "DataFrame is highly fragmented.  This is usually the result of calling `frame.insert` many times, which has poor performance.  Consider joining all columns at once using pd.concat(axis=1) instead. To get a de-fragmented frame, use `newframe = frame.copy()`\n",
      "\n",
      "C:\\Users\\Forec\\AppData\\Local\\Temp\\ipykernel_5496\\1057259317.py:37: PerformanceWarning:\n",
      "\n",
      "DataFrame is highly fragmented.  This is usually the result of calling `frame.insert` many times, which has poor performance.  Consider joining all columns at once using pd.concat(axis=1) instead. To get a de-fragmented frame, use `newframe = frame.copy()`\n",
      "\n"
     ]
    },
    {
     "name": "stdout",
     "output_type": "stream",
     "text": [
      "       Open      High       Low     Close    Volume\n",
      "0  0.000857  0.000766  0.000669  0.000654  0.061814\n",
      "1   0.00034  0.000019   0.00026 -0.000242  0.051685\n",
      "2  0.000314  0.000002  0.000243 -0.000263  0.051981\n",
      "3  0.000284 -0.000023  0.000402 -0.000222   0.04964\n",
      "4 -0.000293 -0.000442  0.000205 -0.000299  0.025728\n"
     ]
    }
   ],
   "source": [
    "import pandas as pd\n",
    "from sklearn.preprocessing import PolynomialFeatures\n",
    "from sklearn.decomposition import PCA\n",
    "import yfinance as yf\n",
    "import numpy as np\n",
    "from datetime import datetime\n",
    "\n",
    "# Define the ticker symbol\n",
    "tickerSymbol = 'QQQ'\n",
    "\n",
    "# Get data on this ticker\n",
    "tickerData = yf.Ticker(tickerSymbol)\n",
    "\n",
    "# Get today's date as a string in the format 'YYYY-MM-DD'\n",
    "today = datetime.now().strftime('%Y-%m-%d')\n",
    "\n",
    "# Get the historical prices for this ticker\n",
    "df = tickerData.history(period='1d', start='2010-1-1', end=today)\n",
    "\n",
    "# Number of past days to use\n",
    "N = 21\n",
    "\n",
    "# Define the degree of the polynomial and the number of PCA components\n",
    "degree = 3\n",
    "n_components = 20\n",
    "\n",
    "# Initialize the PolynomialFeatures transformer and PCA transformer\n",
    "poly = PolynomialFeatures(degree=degree)\n",
    "pca = PCA(n_components=n_components)\n",
    "\n",
    "# Add lags for N past days to the data\n",
    "for i in range(N):\n",
    "    df['Open_lag_' + str(i+1)] = df['Open'].pct_change().shift(i+1)\n",
    "    df['High_lag_' + str(i+1)] = df['High'].pct_change().shift(i+1)\n",
    "    df['Low_lag_' + str(i+1)] = df['Low'].pct_change().shift(i+1)\n",
    "    df['Close_lag_' + str(i+1)] = df['Close'].pct_change().shift(i+1)\n",
    "    df['Volume_lag_' + str(i+1)] = df['Volume'].pct_change().shift(i+1)\n",
    "\n",
    "# Drop the missing values\n",
    "df = df.dropna()\n",
    "\n",
    "# Define future X days\n",
    "X_days = 5\n",
    "\n",
    "# Initialize the DataFrame to store predictions\n",
    "predictions = pd.DataFrame(index=range(X_days), columns=['Open', 'High', 'Low', 'Close', 'Volume'])\n",
    "\n",
    "# Loop for X days\n",
    "for i in range(X_days):\n",
    "    # The columns 'Open', 'High', 'Low', 'Close', and 'Volume' are our targets\n",
    "    y = df[['Open', 'High', 'Low', 'Close', 'Volume']].pct_change()\n",
    "    \n",
    "    # Drop the first row from y\n",
    "    y = y.iloc[1:]\n",
    "\n",
    "    # The lag columns are our features\n",
    "    X = df.drop(['Open', 'High', 'Low', 'Close', 'Volume'], axis=1)\n",
    "    \n",
    "    # Match the shape of X to y by also dropping the first row from X\n",
    "    X = X.iloc[1:]\n",
    "\n",
    "    # Transform the features into polynomial features\n",
    "    X_poly = poly.fit_transform(X)\n",
    "    \n",
    "    # Perform PCA on the polynomial features\n",
    "    X_pca = pca.fit_transform(X_poly)\n",
    "\n",
    "    # Create a regression model\n",
    "    model = LinearRegression()\n",
    "\n",
    "    # Fit the model to the data\n",
    "    model.fit(X_pca, y)\n",
    "\n",
    "    # Use the model to make predictions on the last day + predicted days\n",
    "    last_day_features = df.tail(N).drop(['Open', 'High', 'Low', 'Close', 'Volume'], axis=1)\n",
    "    \n",
    "    # Transform the last day features into polynomial features\n",
    "    last_day_features_poly = poly.transform(last_day_features)\n",
    "    \n",
    "    # Perform PCA on the last day polynomial features\n",
    "    last_day_features_pca = pca.transform(last_day_features_poly)\n",
    "    next_day_prediction = model.predict(last_day_features_pca)\n",
    "\n",
    "    # Store the predictions\n",
    "    predictions.iloc[i] = next_day_prediction[0]\n",
    "\n",
    "    # Create a new DataFrame row from the predictions and append to the original data\n",
    "    new_data = pd.DataFrame([next_day_prediction[0]], index=[df.index[-1] + pd.DateOffset(1)], columns=['Open', 'High', 'Low', 'Close', 'Volume'])\n",
    "    df = pd.concat([df, new_data])\n",
    "\n",
    "    # Shift the lag columns for the next iteration\n",
    "    for i in range(N):\n",
    "        df['Open_lag_' + str(i+1)] = df['Open'].shift(i+1)\n",
    "        df['High_lag_' + str(i+1)] = df['High'].shift(i+1)\n",
    "        df['Low_lag_' + str(i+1)] = df['Low'].shift(i+1)\n",
    "        df['Close_lag_' + str(i+1)] = df['Close'].shift(i+1)\n",
    "        df['Volume_lag_' + str(i+1)] = df['Volume'].shift(i+1)\n",
    "\n",
    "    # Drop the missing values for the next iteration\n",
    "    df = df.dropna()\n",
    "\n",
    "print(predictions)"
   ]
  },
  {
   "cell_type": "code",
   "execution_count": 28,
   "id": "5a09cf9f",
   "metadata": {},
   "outputs": [
    {
     "data": {
      "application/vnd.plotly.v1+json": {
       "config": {
        "plotlyServerURL": "https://plot.ly"
       },
       "data": [
        {
         "close": [
          299.5562438964844,
          295.8819274902344,
          297.3596496582031,
          292.2076416015625,
          288.1039733886719,
          290.24066162109375,
          296.91033935546875,
          298.4679260253906,
          306.33575439453125,
          304.8879699707031,
          305.9700012207031,
          310.3399963378906,
          306.1199951171875,
          309.75,
          310.8900146484375,
          308.760009765625,
          307.1199951171875,
          312.7200012207031,
          315.67999267578125,
          320.92999267578125,
          320.1499938964844,
          319.07000732421875,
          315.9200134277344,
          318.04998779296875,
          317.8699951171875,
          315.8299865722656,
          313.0400085449219,
          319.1700134277344,
          318.57000732421875,
          318.8399963378906,
          318.8599853515625,
          318.7099914550781,
          316.2799987792969,
          316.6099853515625,
          315.95001220703125,
          309.989990234375,
          311.8699951171875,
          320.3500061035156,
          322.55999755859375,
          322.19000244140625,
          319.3800048828125,
          317.2900085449219,
          316.1700134277344,
          322.8900146484375,
          323.69000244140625,
          321.6400146484375,
          325.1400146484375,
          326.20001220703125,
          325.0299987792969,
          326.7900085449219,
          327.1600036621094,
          331.1199951171875,
          337.2699890136719,
          336.510009765625,
          337.6400146484375,
          333.3599853515625,
          331.6499938964844,
          339.7200012207031,
          348.3999938964844,
          349.9800109863281,
          347.989990234375,
          352.010009765625,
          354.6499938964844,
          354.88182056921454,
          354.79610505765044,
          354.7028946826091,
          354.62405956977665,
          354.5179954056418
         ],
         "high": [
          303.5301029238469,
          300.54472222425267,
          297.96869212001394,
          300.51478876173474,
          293.89502655688244,
          294.01481737951616,
          297.4694713051962,
          298.8073968189303,
          306.7051776018838,
          308.6721200455811,
          306.29998779296875,
          310.79998779296875,
          315.25,
          314.1499938964844,
          310.989990234375,
          312.70001220703125,
          308.20001220703125,
          313.3500061035156,
          316.32000732421875,
          321.1700134277344,
          320.4200134277344,
          321.6300048828125,
          319.05999755859375,
          318.54998779296875,
          317.9200134277344,
          317.8900146484375,
          318.4200134277344,
          319.6499938964844,
          320.3599853515625,
          319.20001220703125,
          321.4200134277344,
          319.7900085449219,
          319.2699890136719,
          317.3999938964844,
          317.739990234375,
          314.9700012207031,
          314.94000244140625,
          320.8599853515625,
          322.6499938964844,
          323.6300048828125,
          322.45001220703125,
          322.4700012207031,
          318.2300109863281,
          323.760009765625,
          324.0400085449219,
          322.8800048828125,
          326.010009765625,
          326.75,
          327.1700134277344,
          327.0299987792969,
          328.8999938964844,
          331.7099914550781,
          337.489990234375,
          338.2099914550781,
          338.6700134277344,
          337.05999755859375,
          332.9100036621094,
          341.010009765625,
          349.25,
          353.92999267578125,
          350.6000061035156,
          353.3599853515625,
          355.8299865722656,
          356.10243679692627,
          356.1093441412811,
          356.11010909796204,
          356.10202748097066,
          355.94475714392195
         ],
         "low": [
          299.35657132154165,
          295.26289073321556,
          294.42419174916114,
          291.3789074620241,
          286.9357989319995,
          284.7491633737889,
          292.9964157073769,
          292.7867188217766,
          296.7306291217391,
          302.9010557975131,
          302.010009765625,
          306.3999938964844,
          305.95001220703125,
          307.010009765625,
          306.95001220703125,
          307.8900146484375,
          304.7699890136719,
          310.04998779296875,
          312.80999755859375,
          315.6000061035156,
          317.4200134277344,
          317.8299865722656,
          314.07000732421875,
          312.82000732421875,
          313.25,
          315.30999755859375,
          312.57000732421875,
          313.6300048828125,
          315.6099853515625,
          316.0400085449219,
          317.6400146484375,
          316.2799987792969,
          314.9700012207031,
          314.1000061035156,
          313.739990234375,
          309.8900146484375,
          311.3399963378906,
          315.04998779296875,
          318.9599914550781,
          321.0899963378906,
          317.6099853515625,
          317.17999267578125,
          315.1199951171875,
          316.2099914550781,
          321.32000732421875,
          321.32000732421875,
          321.6000061035156,
          324.1199951171875,
          322.94000244140625,
          323.9599914550781,
          326.0199890136719,
          327.0400085449219,
          331.5,
          335.42999267578125,
          336.239990234375,
          333,
          329.55999755859375,
          336.6700134277344,
          340.6600036621094,
          348.5299987792969,
          346.510009765625,
          346.6600036621094,
          352.010009765625,
          352.2454380916298,
          352.3371059405942,
          352.4226058131677,
          352.5643809298487,
          352.6367902168244
         ],
         "open": [
          300.47483524652233,
          299.60617279573853,
          296.3112544218851,
          297.86886046770724,
          292.3773565339826,
          286.28679141474765,
          293.8550717478847,
          294.2544478096601,
          297.5393746487559,
          306.2458835722277,
          304.260009765625,
          307.94000244140625,
          310.2699890136719,
          309.9200134277344,
          309.32000732421875,
          311.6000061035156,
          308.1700134277344,
          310.8800048828125,
          315.239990234375,
          315.9100036621094,
          318.7699890136719,
          320.6000061035156,
          318.1000061035156,
          314.239990234375,
          315.07000732421875,
          317.8299865722656,
          317.82000732421875,
          314.8299865722656,
          317.5899963378906,
          318.1499938964844,
          320.989990234375,
          316.4100036621094,
          315.69000244140625,
          315.9100036621094,
          316.3800048828125,
          314.2900085449219,
          313.44000244140625,
          315.70001220703125,
          320.1099853515625,
          322.0899963378906,
          322.1199951171875,
          319.75,
          317.05999755859375,
          318.4700012207031,
          322.4200134277344,
          322,
          324.1199951171875,
          325.70001220703125,
          326.739990234375,
          325.510009765625,
          326.05999755859375,
          328.239990234375,
          331.5199890136719,
          337.489990234375,
          336.25,
          335.8900146484375,
          331.3699951171875,
          339.1400146484375,
          340.760009765625,
          352.7099914550781,
          348.3699951171875,
          347.7300109863281,
          353.79998779296875,
          354.10327612573803,
          354.22361477451,
          354.3349392954363,
          354.4357459339796,
          354.3318215681659
         ],
         "type": "candlestick",
         "x": [
          "2023-03-06T00:00:00-05:00",
          "2023-03-07T00:00:00-05:00",
          "2023-03-08T00:00:00-05:00",
          "2023-03-09T00:00:00-05:00",
          "2023-03-10T00:00:00-05:00",
          "2023-03-13T00:00:00-04:00",
          "2023-03-14T00:00:00-04:00",
          "2023-03-15T00:00:00-04:00",
          "2023-03-16T00:00:00-04:00",
          "2023-03-17T00:00:00-04:00",
          "2023-03-20T00:00:00-04:00",
          "2023-03-21T00:00:00-04:00",
          "2023-03-22T00:00:00-04:00",
          "2023-03-23T00:00:00-04:00",
          "2023-03-24T00:00:00-04:00",
          "2023-03-27T00:00:00-04:00",
          "2023-03-28T00:00:00-04:00",
          "2023-03-29T00:00:00-04:00",
          "2023-03-30T00:00:00-04:00",
          "2023-03-31T00:00:00-04:00",
          "2023-04-03T00:00:00-04:00",
          "2023-04-04T00:00:00-04:00",
          "2023-04-05T00:00:00-04:00",
          "2023-04-06T00:00:00-04:00",
          "2023-04-10T00:00:00-04:00",
          "2023-04-11T00:00:00-04:00",
          "2023-04-12T00:00:00-04:00",
          "2023-04-13T00:00:00-04:00",
          "2023-04-14T00:00:00-04:00",
          "2023-04-17T00:00:00-04:00",
          "2023-04-18T00:00:00-04:00",
          "2023-04-19T00:00:00-04:00",
          "2023-04-20T00:00:00-04:00",
          "2023-04-21T00:00:00-04:00",
          "2023-04-24T00:00:00-04:00",
          "2023-04-25T00:00:00-04:00",
          "2023-04-26T00:00:00-04:00",
          "2023-04-27T00:00:00-04:00",
          "2023-04-28T00:00:00-04:00",
          "2023-05-01T00:00:00-04:00",
          "2023-05-02T00:00:00-04:00",
          "2023-05-03T00:00:00-04:00",
          "2023-05-04T00:00:00-04:00",
          "2023-05-05T00:00:00-04:00",
          "2023-05-08T00:00:00-04:00",
          "2023-05-09T00:00:00-04:00",
          "2023-05-10T00:00:00-04:00",
          "2023-05-11T00:00:00-04:00",
          "2023-05-12T00:00:00-04:00",
          "2023-05-15T00:00:00-04:00",
          "2023-05-16T00:00:00-04:00",
          "2023-05-17T00:00:00-04:00",
          "2023-05-18T00:00:00-04:00",
          "2023-05-19T00:00:00-04:00",
          "2023-05-22T00:00:00-04:00",
          "2023-05-23T00:00:00-04:00",
          "2023-05-24T00:00:00-04:00",
          "2023-05-25T00:00:00-04:00",
          "2023-05-26T00:00:00-04:00",
          "2023-05-30T00:00:00-04:00",
          "2023-05-31T00:00:00-04:00",
          "2023-06-01T00:00:00-04:00",
          "2023-06-02T00:00:00-04:00",
          "2023-06-03T00:00:00-04:00",
          "2023-06-04T00:00:00-04:00",
          "2023-06-05T00:00:00-04:00",
          "2023-06-06T00:00:00-04:00",
          "2023-06-07T00:00:00-04:00"
         ]
        }
       ],
       "layout": {
        "template": {
         "data": {
          "bar": [
           {
            "error_x": {
             "color": "#2a3f5f"
            },
            "error_y": {
             "color": "#2a3f5f"
            },
            "marker": {
             "line": {
              "color": "#E5ECF6",
              "width": 0.5
             },
             "pattern": {
              "fillmode": "overlay",
              "size": 10,
              "solidity": 0.2
             }
            },
            "type": "bar"
           }
          ],
          "barpolar": [
           {
            "marker": {
             "line": {
              "color": "#E5ECF6",
              "width": 0.5
             },
             "pattern": {
              "fillmode": "overlay",
              "size": 10,
              "solidity": 0.2
             }
            },
            "type": "barpolar"
           }
          ],
          "carpet": [
           {
            "aaxis": {
             "endlinecolor": "#2a3f5f",
             "gridcolor": "white",
             "linecolor": "white",
             "minorgridcolor": "white",
             "startlinecolor": "#2a3f5f"
            },
            "baxis": {
             "endlinecolor": "#2a3f5f",
             "gridcolor": "white",
             "linecolor": "white",
             "minorgridcolor": "white",
             "startlinecolor": "#2a3f5f"
            },
            "type": "carpet"
           }
          ],
          "choropleth": [
           {
            "colorbar": {
             "outlinewidth": 0,
             "ticks": ""
            },
            "type": "choropleth"
           }
          ],
          "contour": [
           {
            "colorbar": {
             "outlinewidth": 0,
             "ticks": ""
            },
            "colorscale": [
             [
              0,
              "#0d0887"
             ],
             [
              0.1111111111111111,
              "#46039f"
             ],
             [
              0.2222222222222222,
              "#7201a8"
             ],
             [
              0.3333333333333333,
              "#9c179e"
             ],
             [
              0.4444444444444444,
              "#bd3786"
             ],
             [
              0.5555555555555556,
              "#d8576b"
             ],
             [
              0.6666666666666666,
              "#ed7953"
             ],
             [
              0.7777777777777778,
              "#fb9f3a"
             ],
             [
              0.8888888888888888,
              "#fdca26"
             ],
             [
              1,
              "#f0f921"
             ]
            ],
            "type": "contour"
           }
          ],
          "contourcarpet": [
           {
            "colorbar": {
             "outlinewidth": 0,
             "ticks": ""
            },
            "type": "contourcarpet"
           }
          ],
          "heatmap": [
           {
            "colorbar": {
             "outlinewidth": 0,
             "ticks": ""
            },
            "colorscale": [
             [
              0,
              "#0d0887"
             ],
             [
              0.1111111111111111,
              "#46039f"
             ],
             [
              0.2222222222222222,
              "#7201a8"
             ],
             [
              0.3333333333333333,
              "#9c179e"
             ],
             [
              0.4444444444444444,
              "#bd3786"
             ],
             [
              0.5555555555555556,
              "#d8576b"
             ],
             [
              0.6666666666666666,
              "#ed7953"
             ],
             [
              0.7777777777777778,
              "#fb9f3a"
             ],
             [
              0.8888888888888888,
              "#fdca26"
             ],
             [
              1,
              "#f0f921"
             ]
            ],
            "type": "heatmap"
           }
          ],
          "heatmapgl": [
           {
            "colorbar": {
             "outlinewidth": 0,
             "ticks": ""
            },
            "colorscale": [
             [
              0,
              "#0d0887"
             ],
             [
              0.1111111111111111,
              "#46039f"
             ],
             [
              0.2222222222222222,
              "#7201a8"
             ],
             [
              0.3333333333333333,
              "#9c179e"
             ],
             [
              0.4444444444444444,
              "#bd3786"
             ],
             [
              0.5555555555555556,
              "#d8576b"
             ],
             [
              0.6666666666666666,
              "#ed7953"
             ],
             [
              0.7777777777777778,
              "#fb9f3a"
             ],
             [
              0.8888888888888888,
              "#fdca26"
             ],
             [
              1,
              "#f0f921"
             ]
            ],
            "type": "heatmapgl"
           }
          ],
          "histogram": [
           {
            "marker": {
             "pattern": {
              "fillmode": "overlay",
              "size": 10,
              "solidity": 0.2
             }
            },
            "type": "histogram"
           }
          ],
          "histogram2d": [
           {
            "colorbar": {
             "outlinewidth": 0,
             "ticks": ""
            },
            "colorscale": [
             [
              0,
              "#0d0887"
             ],
             [
              0.1111111111111111,
              "#46039f"
             ],
             [
              0.2222222222222222,
              "#7201a8"
             ],
             [
              0.3333333333333333,
              "#9c179e"
             ],
             [
              0.4444444444444444,
              "#bd3786"
             ],
             [
              0.5555555555555556,
              "#d8576b"
             ],
             [
              0.6666666666666666,
              "#ed7953"
             ],
             [
              0.7777777777777778,
              "#fb9f3a"
             ],
             [
              0.8888888888888888,
              "#fdca26"
             ],
             [
              1,
              "#f0f921"
             ]
            ],
            "type": "histogram2d"
           }
          ],
          "histogram2dcontour": [
           {
            "colorbar": {
             "outlinewidth": 0,
             "ticks": ""
            },
            "colorscale": [
             [
              0,
              "#0d0887"
             ],
             [
              0.1111111111111111,
              "#46039f"
             ],
             [
              0.2222222222222222,
              "#7201a8"
             ],
             [
              0.3333333333333333,
              "#9c179e"
             ],
             [
              0.4444444444444444,
              "#bd3786"
             ],
             [
              0.5555555555555556,
              "#d8576b"
             ],
             [
              0.6666666666666666,
              "#ed7953"
             ],
             [
              0.7777777777777778,
              "#fb9f3a"
             ],
             [
              0.8888888888888888,
              "#fdca26"
             ],
             [
              1,
              "#f0f921"
             ]
            ],
            "type": "histogram2dcontour"
           }
          ],
          "mesh3d": [
           {
            "colorbar": {
             "outlinewidth": 0,
             "ticks": ""
            },
            "type": "mesh3d"
           }
          ],
          "parcoords": [
           {
            "line": {
             "colorbar": {
              "outlinewidth": 0,
              "ticks": ""
             }
            },
            "type": "parcoords"
           }
          ],
          "pie": [
           {
            "automargin": true,
            "type": "pie"
           }
          ],
          "scatter": [
           {
            "fillpattern": {
             "fillmode": "overlay",
             "size": 10,
             "solidity": 0.2
            },
            "type": "scatter"
           }
          ],
          "scatter3d": [
           {
            "line": {
             "colorbar": {
              "outlinewidth": 0,
              "ticks": ""
             }
            },
            "marker": {
             "colorbar": {
              "outlinewidth": 0,
              "ticks": ""
             }
            },
            "type": "scatter3d"
           }
          ],
          "scattercarpet": [
           {
            "marker": {
             "colorbar": {
              "outlinewidth": 0,
              "ticks": ""
             }
            },
            "type": "scattercarpet"
           }
          ],
          "scattergeo": [
           {
            "marker": {
             "colorbar": {
              "outlinewidth": 0,
              "ticks": ""
             }
            },
            "type": "scattergeo"
           }
          ],
          "scattergl": [
           {
            "marker": {
             "colorbar": {
              "outlinewidth": 0,
              "ticks": ""
             }
            },
            "type": "scattergl"
           }
          ],
          "scattermapbox": [
           {
            "marker": {
             "colorbar": {
              "outlinewidth": 0,
              "ticks": ""
             }
            },
            "type": "scattermapbox"
           }
          ],
          "scatterpolar": [
           {
            "marker": {
             "colorbar": {
              "outlinewidth": 0,
              "ticks": ""
             }
            },
            "type": "scatterpolar"
           }
          ],
          "scatterpolargl": [
           {
            "marker": {
             "colorbar": {
              "outlinewidth": 0,
              "ticks": ""
             }
            },
            "type": "scatterpolargl"
           }
          ],
          "scatterternary": [
           {
            "marker": {
             "colorbar": {
              "outlinewidth": 0,
              "ticks": ""
             }
            },
            "type": "scatterternary"
           }
          ],
          "surface": [
           {
            "colorbar": {
             "outlinewidth": 0,
             "ticks": ""
            },
            "colorscale": [
             [
              0,
              "#0d0887"
             ],
             [
              0.1111111111111111,
              "#46039f"
             ],
             [
              0.2222222222222222,
              "#7201a8"
             ],
             [
              0.3333333333333333,
              "#9c179e"
             ],
             [
              0.4444444444444444,
              "#bd3786"
             ],
             [
              0.5555555555555556,
              "#d8576b"
             ],
             [
              0.6666666666666666,
              "#ed7953"
             ],
             [
              0.7777777777777778,
              "#fb9f3a"
             ],
             [
              0.8888888888888888,
              "#fdca26"
             ],
             [
              1,
              "#f0f921"
             ]
            ],
            "type": "surface"
           }
          ],
          "table": [
           {
            "cells": {
             "fill": {
              "color": "#EBF0F8"
             },
             "line": {
              "color": "white"
             }
            },
            "header": {
             "fill": {
              "color": "#C8D4E3"
             },
             "line": {
              "color": "white"
             }
            },
            "type": "table"
           }
          ]
         },
         "layout": {
          "annotationdefaults": {
           "arrowcolor": "#2a3f5f",
           "arrowhead": 0,
           "arrowwidth": 1
          },
          "autotypenumbers": "strict",
          "coloraxis": {
           "colorbar": {
            "outlinewidth": 0,
            "ticks": ""
           }
          },
          "colorscale": {
           "diverging": [
            [
             0,
             "#8e0152"
            ],
            [
             0.1,
             "#c51b7d"
            ],
            [
             0.2,
             "#de77ae"
            ],
            [
             0.3,
             "#f1b6da"
            ],
            [
             0.4,
             "#fde0ef"
            ],
            [
             0.5,
             "#f7f7f7"
            ],
            [
             0.6,
             "#e6f5d0"
            ],
            [
             0.7,
             "#b8e186"
            ],
            [
             0.8,
             "#7fbc41"
            ],
            [
             0.9,
             "#4d9221"
            ],
            [
             1,
             "#276419"
            ]
           ],
           "sequential": [
            [
             0,
             "#0d0887"
            ],
            [
             0.1111111111111111,
             "#46039f"
            ],
            [
             0.2222222222222222,
             "#7201a8"
            ],
            [
             0.3333333333333333,
             "#9c179e"
            ],
            [
             0.4444444444444444,
             "#bd3786"
            ],
            [
             0.5555555555555556,
             "#d8576b"
            ],
            [
             0.6666666666666666,
             "#ed7953"
            ],
            [
             0.7777777777777778,
             "#fb9f3a"
            ],
            [
             0.8888888888888888,
             "#fdca26"
            ],
            [
             1,
             "#f0f921"
            ]
           ],
           "sequentialminus": [
            [
             0,
             "#0d0887"
            ],
            [
             0.1111111111111111,
             "#46039f"
            ],
            [
             0.2222222222222222,
             "#7201a8"
            ],
            [
             0.3333333333333333,
             "#9c179e"
            ],
            [
             0.4444444444444444,
             "#bd3786"
            ],
            [
             0.5555555555555556,
             "#d8576b"
            ],
            [
             0.6666666666666666,
             "#ed7953"
            ],
            [
             0.7777777777777778,
             "#fb9f3a"
            ],
            [
             0.8888888888888888,
             "#fdca26"
            ],
            [
             1,
             "#f0f921"
            ]
           ]
          },
          "colorway": [
           "#636efa",
           "#EF553B",
           "#00cc96",
           "#ab63fa",
           "#FFA15A",
           "#19d3f3",
           "#FF6692",
           "#B6E880",
           "#FF97FF",
           "#FECB52"
          ],
          "font": {
           "color": "#2a3f5f"
          },
          "geo": {
           "bgcolor": "white",
           "lakecolor": "white",
           "landcolor": "#E5ECF6",
           "showlakes": true,
           "showland": true,
           "subunitcolor": "white"
          },
          "hoverlabel": {
           "align": "left"
          },
          "hovermode": "closest",
          "mapbox": {
           "style": "light"
          },
          "paper_bgcolor": "white",
          "plot_bgcolor": "#E5ECF6",
          "polar": {
           "angularaxis": {
            "gridcolor": "white",
            "linecolor": "white",
            "ticks": ""
           },
           "bgcolor": "#E5ECF6",
           "radialaxis": {
            "gridcolor": "white",
            "linecolor": "white",
            "ticks": ""
           }
          },
          "scene": {
           "xaxis": {
            "backgroundcolor": "#E5ECF6",
            "gridcolor": "white",
            "gridwidth": 2,
            "linecolor": "white",
            "showbackground": true,
            "ticks": "",
            "zerolinecolor": "white"
           },
           "yaxis": {
            "backgroundcolor": "#E5ECF6",
            "gridcolor": "white",
            "gridwidth": 2,
            "linecolor": "white",
            "showbackground": true,
            "ticks": "",
            "zerolinecolor": "white"
           },
           "zaxis": {
            "backgroundcolor": "#E5ECF6",
            "gridcolor": "white",
            "gridwidth": 2,
            "linecolor": "white",
            "showbackground": true,
            "ticks": "",
            "zerolinecolor": "white"
           }
          },
          "shapedefaults": {
           "line": {
            "color": "#2a3f5f"
           }
          },
          "ternary": {
           "aaxis": {
            "gridcolor": "white",
            "linecolor": "white",
            "ticks": ""
           },
           "baxis": {
            "gridcolor": "white",
            "linecolor": "white",
            "ticks": ""
           },
           "bgcolor": "#E5ECF6",
           "caxis": {
            "gridcolor": "white",
            "linecolor": "white",
            "ticks": ""
           }
          },
          "title": {
           "x": 0.05
          },
          "xaxis": {
           "automargin": true,
           "gridcolor": "white",
           "linecolor": "white",
           "ticks": "",
           "title": {
            "standoff": 15
           },
           "zerolinecolor": "white",
           "zerolinewidth": 2
          },
          "yaxis": {
           "automargin": true,
           "gridcolor": "white",
           "linecolor": "white",
           "ticks": "",
           "title": {
            "standoff": 15
           },
           "zerolinecolor": "white",
           "zerolinewidth": 2
          }
         }
        },
        "title": {
         "text": "Candlestick chart of actual and predicted prices"
        }
       }
      },
      "text/html": [
       "<div>                            <div id=\"f5f853f2-9576-4420-944d-767e53c95aa0\" class=\"plotly-graph-div\" style=\"height:525px; width:100%;\"></div>            <script type=\"text/javascript\">                require([\"plotly\"], function(Plotly) {                    window.PLOTLYENV=window.PLOTLYENV || {};                                    if (document.getElementById(\"f5f853f2-9576-4420-944d-767e53c95aa0\")) {                    Plotly.newPlot(                        \"f5f853f2-9576-4420-944d-767e53c95aa0\",                        [{\"close\":[299.5562438964844,295.8819274902344,297.3596496582031,292.2076416015625,288.1039733886719,290.24066162109375,296.91033935546875,298.4679260253906,306.33575439453125,304.8879699707031,305.9700012207031,310.3399963378906,306.1199951171875,309.75,310.8900146484375,308.760009765625,307.1199951171875,312.7200012207031,315.67999267578125,320.92999267578125,320.1499938964844,319.07000732421875,315.9200134277344,318.04998779296875,317.8699951171875,315.8299865722656,313.0400085449219,319.1700134277344,318.57000732421875,318.8399963378906,318.8599853515625,318.7099914550781,316.2799987792969,316.6099853515625,315.95001220703125,309.989990234375,311.8699951171875,320.3500061035156,322.55999755859375,322.19000244140625,319.3800048828125,317.2900085449219,316.1700134277344,322.8900146484375,323.69000244140625,321.6400146484375,325.1400146484375,326.20001220703125,325.0299987792969,326.7900085449219,327.1600036621094,331.1199951171875,337.2699890136719,336.510009765625,337.6400146484375,333.3599853515625,331.6499938964844,339.7200012207031,348.3999938964844,349.9800109863281,347.989990234375,352.010009765625,354.6499938964844,354.88182056921454,354.79610505765044,354.7028946826091,354.62405956977665,354.5179954056418],\"high\":[303.5301029238469,300.54472222425267,297.96869212001394,300.51478876173474,293.89502655688244,294.01481737951616,297.4694713051962,298.8073968189303,306.7051776018838,308.6721200455811,306.29998779296875,310.79998779296875,315.25,314.1499938964844,310.989990234375,312.70001220703125,308.20001220703125,313.3500061035156,316.32000732421875,321.1700134277344,320.4200134277344,321.6300048828125,319.05999755859375,318.54998779296875,317.9200134277344,317.8900146484375,318.4200134277344,319.6499938964844,320.3599853515625,319.20001220703125,321.4200134277344,319.7900085449219,319.2699890136719,317.3999938964844,317.739990234375,314.9700012207031,314.94000244140625,320.8599853515625,322.6499938964844,323.6300048828125,322.45001220703125,322.4700012207031,318.2300109863281,323.760009765625,324.0400085449219,322.8800048828125,326.010009765625,326.75,327.1700134277344,327.0299987792969,328.8999938964844,331.7099914550781,337.489990234375,338.2099914550781,338.6700134277344,337.05999755859375,332.9100036621094,341.010009765625,349.25,353.92999267578125,350.6000061035156,353.3599853515625,355.8299865722656,356.10243679692627,356.1093441412811,356.11010909796204,356.10202748097066,355.94475714392195],\"low\":[299.35657132154165,295.26289073321556,294.42419174916114,291.3789074620241,286.9357989319995,284.7491633737889,292.9964157073769,292.7867188217766,296.7306291217391,302.9010557975131,302.010009765625,306.3999938964844,305.95001220703125,307.010009765625,306.95001220703125,307.8900146484375,304.7699890136719,310.04998779296875,312.80999755859375,315.6000061035156,317.4200134277344,317.8299865722656,314.07000732421875,312.82000732421875,313.25,315.30999755859375,312.57000732421875,313.6300048828125,315.6099853515625,316.0400085449219,317.6400146484375,316.2799987792969,314.9700012207031,314.1000061035156,313.739990234375,309.8900146484375,311.3399963378906,315.04998779296875,318.9599914550781,321.0899963378906,317.6099853515625,317.17999267578125,315.1199951171875,316.2099914550781,321.32000732421875,321.32000732421875,321.6000061035156,324.1199951171875,322.94000244140625,323.9599914550781,326.0199890136719,327.0400085449219,331.5,335.42999267578125,336.239990234375,333.0,329.55999755859375,336.6700134277344,340.6600036621094,348.5299987792969,346.510009765625,346.6600036621094,352.010009765625,352.2454380916298,352.3371059405942,352.4226058131677,352.5643809298487,352.6367902168244],\"open\":[300.47483524652233,299.60617279573853,296.3112544218851,297.86886046770724,292.3773565339826,286.28679141474765,293.8550717478847,294.2544478096601,297.5393746487559,306.2458835722277,304.260009765625,307.94000244140625,310.2699890136719,309.9200134277344,309.32000732421875,311.6000061035156,308.1700134277344,310.8800048828125,315.239990234375,315.9100036621094,318.7699890136719,320.6000061035156,318.1000061035156,314.239990234375,315.07000732421875,317.8299865722656,317.82000732421875,314.8299865722656,317.5899963378906,318.1499938964844,320.989990234375,316.4100036621094,315.69000244140625,315.9100036621094,316.3800048828125,314.2900085449219,313.44000244140625,315.70001220703125,320.1099853515625,322.0899963378906,322.1199951171875,319.75,317.05999755859375,318.4700012207031,322.4200134277344,322.0,324.1199951171875,325.70001220703125,326.739990234375,325.510009765625,326.05999755859375,328.239990234375,331.5199890136719,337.489990234375,336.25,335.8900146484375,331.3699951171875,339.1400146484375,340.760009765625,352.7099914550781,348.3699951171875,347.7300109863281,353.79998779296875,354.10327612573803,354.22361477451,354.3349392954363,354.4357459339796,354.3318215681659],\"x\":[\"2023-03-06T00:00:00-05:00\",\"2023-03-07T00:00:00-05:00\",\"2023-03-08T00:00:00-05:00\",\"2023-03-09T00:00:00-05:00\",\"2023-03-10T00:00:00-05:00\",\"2023-03-13T00:00:00-04:00\",\"2023-03-14T00:00:00-04:00\",\"2023-03-15T00:00:00-04:00\",\"2023-03-16T00:00:00-04:00\",\"2023-03-17T00:00:00-04:00\",\"2023-03-20T00:00:00-04:00\",\"2023-03-21T00:00:00-04:00\",\"2023-03-22T00:00:00-04:00\",\"2023-03-23T00:00:00-04:00\",\"2023-03-24T00:00:00-04:00\",\"2023-03-27T00:00:00-04:00\",\"2023-03-28T00:00:00-04:00\",\"2023-03-29T00:00:00-04:00\",\"2023-03-30T00:00:00-04:00\",\"2023-03-31T00:00:00-04:00\",\"2023-04-03T00:00:00-04:00\",\"2023-04-04T00:00:00-04:00\",\"2023-04-05T00:00:00-04:00\",\"2023-04-06T00:00:00-04:00\",\"2023-04-10T00:00:00-04:00\",\"2023-04-11T00:00:00-04:00\",\"2023-04-12T00:00:00-04:00\",\"2023-04-13T00:00:00-04:00\",\"2023-04-14T00:00:00-04:00\",\"2023-04-17T00:00:00-04:00\",\"2023-04-18T00:00:00-04:00\",\"2023-04-19T00:00:00-04:00\",\"2023-04-20T00:00:00-04:00\",\"2023-04-21T00:00:00-04:00\",\"2023-04-24T00:00:00-04:00\",\"2023-04-25T00:00:00-04:00\",\"2023-04-26T00:00:00-04:00\",\"2023-04-27T00:00:00-04:00\",\"2023-04-28T00:00:00-04:00\",\"2023-05-01T00:00:00-04:00\",\"2023-05-02T00:00:00-04:00\",\"2023-05-03T00:00:00-04:00\",\"2023-05-04T00:00:00-04:00\",\"2023-05-05T00:00:00-04:00\",\"2023-05-08T00:00:00-04:00\",\"2023-05-09T00:00:00-04:00\",\"2023-05-10T00:00:00-04:00\",\"2023-05-11T00:00:00-04:00\",\"2023-05-12T00:00:00-04:00\",\"2023-05-15T00:00:00-04:00\",\"2023-05-16T00:00:00-04:00\",\"2023-05-17T00:00:00-04:00\",\"2023-05-18T00:00:00-04:00\",\"2023-05-19T00:00:00-04:00\",\"2023-05-22T00:00:00-04:00\",\"2023-05-23T00:00:00-04:00\",\"2023-05-24T00:00:00-04:00\",\"2023-05-25T00:00:00-04:00\",\"2023-05-26T00:00:00-04:00\",\"2023-05-30T00:00:00-04:00\",\"2023-05-31T00:00:00-04:00\",\"2023-06-01T00:00:00-04:00\",\"2023-06-02T00:00:00-04:00\",\"2023-06-03T00:00:00-04:00\",\"2023-06-04T00:00:00-04:00\",\"2023-06-05T00:00:00-04:00\",\"2023-06-06T00:00:00-04:00\",\"2023-06-07T00:00:00-04:00\"],\"type\":\"candlestick\"}],                        {\"template\":{\"data\":{\"histogram2dcontour\":[{\"type\":\"histogram2dcontour\",\"colorbar\":{\"outlinewidth\":0,\"ticks\":\"\"},\"colorscale\":[[0.0,\"#0d0887\"],[0.1111111111111111,\"#46039f\"],[0.2222222222222222,\"#7201a8\"],[0.3333333333333333,\"#9c179e\"],[0.4444444444444444,\"#bd3786\"],[0.5555555555555556,\"#d8576b\"],[0.6666666666666666,\"#ed7953\"],[0.7777777777777778,\"#fb9f3a\"],[0.8888888888888888,\"#fdca26\"],[1.0,\"#f0f921\"]]}],\"choropleth\":[{\"type\":\"choropleth\",\"colorbar\":{\"outlinewidth\":0,\"ticks\":\"\"}}],\"histogram2d\":[{\"type\":\"histogram2d\",\"colorbar\":{\"outlinewidth\":0,\"ticks\":\"\"},\"colorscale\":[[0.0,\"#0d0887\"],[0.1111111111111111,\"#46039f\"],[0.2222222222222222,\"#7201a8\"],[0.3333333333333333,\"#9c179e\"],[0.4444444444444444,\"#bd3786\"],[0.5555555555555556,\"#d8576b\"],[0.6666666666666666,\"#ed7953\"],[0.7777777777777778,\"#fb9f3a\"],[0.8888888888888888,\"#fdca26\"],[1.0,\"#f0f921\"]]}],\"heatmap\":[{\"type\":\"heatmap\",\"colorbar\":{\"outlinewidth\":0,\"ticks\":\"\"},\"colorscale\":[[0.0,\"#0d0887\"],[0.1111111111111111,\"#46039f\"],[0.2222222222222222,\"#7201a8\"],[0.3333333333333333,\"#9c179e\"],[0.4444444444444444,\"#bd3786\"],[0.5555555555555556,\"#d8576b\"],[0.6666666666666666,\"#ed7953\"],[0.7777777777777778,\"#fb9f3a\"],[0.8888888888888888,\"#fdca26\"],[1.0,\"#f0f921\"]]}],\"heatmapgl\":[{\"type\":\"heatmapgl\",\"colorbar\":{\"outlinewidth\":0,\"ticks\":\"\"},\"colorscale\":[[0.0,\"#0d0887\"],[0.1111111111111111,\"#46039f\"],[0.2222222222222222,\"#7201a8\"],[0.3333333333333333,\"#9c179e\"],[0.4444444444444444,\"#bd3786\"],[0.5555555555555556,\"#d8576b\"],[0.6666666666666666,\"#ed7953\"],[0.7777777777777778,\"#fb9f3a\"],[0.8888888888888888,\"#fdca26\"],[1.0,\"#f0f921\"]]}],\"contourcarpet\":[{\"type\":\"contourcarpet\",\"colorbar\":{\"outlinewidth\":0,\"ticks\":\"\"}}],\"contour\":[{\"type\":\"contour\",\"colorbar\":{\"outlinewidth\":0,\"ticks\":\"\"},\"colorscale\":[[0.0,\"#0d0887\"],[0.1111111111111111,\"#46039f\"],[0.2222222222222222,\"#7201a8\"],[0.3333333333333333,\"#9c179e\"],[0.4444444444444444,\"#bd3786\"],[0.5555555555555556,\"#d8576b\"],[0.6666666666666666,\"#ed7953\"],[0.7777777777777778,\"#fb9f3a\"],[0.8888888888888888,\"#fdca26\"],[1.0,\"#f0f921\"]]}],\"surface\":[{\"type\":\"surface\",\"colorbar\":{\"outlinewidth\":0,\"ticks\":\"\"},\"colorscale\":[[0.0,\"#0d0887\"],[0.1111111111111111,\"#46039f\"],[0.2222222222222222,\"#7201a8\"],[0.3333333333333333,\"#9c179e\"],[0.4444444444444444,\"#bd3786\"],[0.5555555555555556,\"#d8576b\"],[0.6666666666666666,\"#ed7953\"],[0.7777777777777778,\"#fb9f3a\"],[0.8888888888888888,\"#fdca26\"],[1.0,\"#f0f921\"]]}],\"mesh3d\":[{\"type\":\"mesh3d\",\"colorbar\":{\"outlinewidth\":0,\"ticks\":\"\"}}],\"scatter\":[{\"fillpattern\":{\"fillmode\":\"overlay\",\"size\":10,\"solidity\":0.2},\"type\":\"scatter\"}],\"parcoords\":[{\"type\":\"parcoords\",\"line\":{\"colorbar\":{\"outlinewidth\":0,\"ticks\":\"\"}}}],\"scatterpolargl\":[{\"type\":\"scatterpolargl\",\"marker\":{\"colorbar\":{\"outlinewidth\":0,\"ticks\":\"\"}}}],\"bar\":[{\"error_x\":{\"color\":\"#2a3f5f\"},\"error_y\":{\"color\":\"#2a3f5f\"},\"marker\":{\"line\":{\"color\":\"#E5ECF6\",\"width\":0.5},\"pattern\":{\"fillmode\":\"overlay\",\"size\":10,\"solidity\":0.2}},\"type\":\"bar\"}],\"scattergeo\":[{\"type\":\"scattergeo\",\"marker\":{\"colorbar\":{\"outlinewidth\":0,\"ticks\":\"\"}}}],\"scatterpolar\":[{\"type\":\"scatterpolar\",\"marker\":{\"colorbar\":{\"outlinewidth\":0,\"ticks\":\"\"}}}],\"histogram\":[{\"marker\":{\"pattern\":{\"fillmode\":\"overlay\",\"size\":10,\"solidity\":0.2}},\"type\":\"histogram\"}],\"scattergl\":[{\"type\":\"scattergl\",\"marker\":{\"colorbar\":{\"outlinewidth\":0,\"ticks\":\"\"}}}],\"scatter3d\":[{\"type\":\"scatter3d\",\"line\":{\"colorbar\":{\"outlinewidth\":0,\"ticks\":\"\"}},\"marker\":{\"colorbar\":{\"outlinewidth\":0,\"ticks\":\"\"}}}],\"scattermapbox\":[{\"type\":\"scattermapbox\",\"marker\":{\"colorbar\":{\"outlinewidth\":0,\"ticks\":\"\"}}}],\"scatterternary\":[{\"type\":\"scatterternary\",\"marker\":{\"colorbar\":{\"outlinewidth\":0,\"ticks\":\"\"}}}],\"scattercarpet\":[{\"type\":\"scattercarpet\",\"marker\":{\"colorbar\":{\"outlinewidth\":0,\"ticks\":\"\"}}}],\"carpet\":[{\"aaxis\":{\"endlinecolor\":\"#2a3f5f\",\"gridcolor\":\"white\",\"linecolor\":\"white\",\"minorgridcolor\":\"white\",\"startlinecolor\":\"#2a3f5f\"},\"baxis\":{\"endlinecolor\":\"#2a3f5f\",\"gridcolor\":\"white\",\"linecolor\":\"white\",\"minorgridcolor\":\"white\",\"startlinecolor\":\"#2a3f5f\"},\"type\":\"carpet\"}],\"table\":[{\"cells\":{\"fill\":{\"color\":\"#EBF0F8\"},\"line\":{\"color\":\"white\"}},\"header\":{\"fill\":{\"color\":\"#C8D4E3\"},\"line\":{\"color\":\"white\"}},\"type\":\"table\"}],\"barpolar\":[{\"marker\":{\"line\":{\"color\":\"#E5ECF6\",\"width\":0.5},\"pattern\":{\"fillmode\":\"overlay\",\"size\":10,\"solidity\":0.2}},\"type\":\"barpolar\"}],\"pie\":[{\"automargin\":true,\"type\":\"pie\"}]},\"layout\":{\"autotypenumbers\":\"strict\",\"colorway\":[\"#636efa\",\"#EF553B\",\"#00cc96\",\"#ab63fa\",\"#FFA15A\",\"#19d3f3\",\"#FF6692\",\"#B6E880\",\"#FF97FF\",\"#FECB52\"],\"font\":{\"color\":\"#2a3f5f\"},\"hovermode\":\"closest\",\"hoverlabel\":{\"align\":\"left\"},\"paper_bgcolor\":\"white\",\"plot_bgcolor\":\"#E5ECF6\",\"polar\":{\"bgcolor\":\"#E5ECF6\",\"angularaxis\":{\"gridcolor\":\"white\",\"linecolor\":\"white\",\"ticks\":\"\"},\"radialaxis\":{\"gridcolor\":\"white\",\"linecolor\":\"white\",\"ticks\":\"\"}},\"ternary\":{\"bgcolor\":\"#E5ECF6\",\"aaxis\":{\"gridcolor\":\"white\",\"linecolor\":\"white\",\"ticks\":\"\"},\"baxis\":{\"gridcolor\":\"white\",\"linecolor\":\"white\",\"ticks\":\"\"},\"caxis\":{\"gridcolor\":\"white\",\"linecolor\":\"white\",\"ticks\":\"\"}},\"coloraxis\":{\"colorbar\":{\"outlinewidth\":0,\"ticks\":\"\"}},\"colorscale\":{\"sequential\":[[0.0,\"#0d0887\"],[0.1111111111111111,\"#46039f\"],[0.2222222222222222,\"#7201a8\"],[0.3333333333333333,\"#9c179e\"],[0.4444444444444444,\"#bd3786\"],[0.5555555555555556,\"#d8576b\"],[0.6666666666666666,\"#ed7953\"],[0.7777777777777778,\"#fb9f3a\"],[0.8888888888888888,\"#fdca26\"],[1.0,\"#f0f921\"]],\"sequentialminus\":[[0.0,\"#0d0887\"],[0.1111111111111111,\"#46039f\"],[0.2222222222222222,\"#7201a8\"],[0.3333333333333333,\"#9c179e\"],[0.4444444444444444,\"#bd3786\"],[0.5555555555555556,\"#d8576b\"],[0.6666666666666666,\"#ed7953\"],[0.7777777777777778,\"#fb9f3a\"],[0.8888888888888888,\"#fdca26\"],[1.0,\"#f0f921\"]],\"diverging\":[[0,\"#8e0152\"],[0.1,\"#c51b7d\"],[0.2,\"#de77ae\"],[0.3,\"#f1b6da\"],[0.4,\"#fde0ef\"],[0.5,\"#f7f7f7\"],[0.6,\"#e6f5d0\"],[0.7,\"#b8e186\"],[0.8,\"#7fbc41\"],[0.9,\"#4d9221\"],[1,\"#276419\"]]},\"xaxis\":{\"gridcolor\":\"white\",\"linecolor\":\"white\",\"ticks\":\"\",\"title\":{\"standoff\":15},\"zerolinecolor\":\"white\",\"automargin\":true,\"zerolinewidth\":2},\"yaxis\":{\"gridcolor\":\"white\",\"linecolor\":\"white\",\"ticks\":\"\",\"title\":{\"standoff\":15},\"zerolinecolor\":\"white\",\"automargin\":true,\"zerolinewidth\":2},\"scene\":{\"xaxis\":{\"backgroundcolor\":\"#E5ECF6\",\"gridcolor\":\"white\",\"linecolor\":\"white\",\"showbackground\":true,\"ticks\":\"\",\"zerolinecolor\":\"white\",\"gridwidth\":2},\"yaxis\":{\"backgroundcolor\":\"#E5ECF6\",\"gridcolor\":\"white\",\"linecolor\":\"white\",\"showbackground\":true,\"ticks\":\"\",\"zerolinecolor\":\"white\",\"gridwidth\":2},\"zaxis\":{\"backgroundcolor\":\"#E5ECF6\",\"gridcolor\":\"white\",\"linecolor\":\"white\",\"showbackground\":true,\"ticks\":\"\",\"zerolinecolor\":\"white\",\"gridwidth\":2}},\"shapedefaults\":{\"line\":{\"color\":\"#2a3f5f\"}},\"annotationdefaults\":{\"arrowcolor\":\"#2a3f5f\",\"arrowhead\":0,\"arrowwidth\":1},\"geo\":{\"bgcolor\":\"white\",\"landcolor\":\"#E5ECF6\",\"subunitcolor\":\"white\",\"showland\":true,\"showlakes\":true,\"lakecolor\":\"white\"},\"title\":{\"x\":0.05},\"mapbox\":{\"style\":\"light\"}}},\"title\":{\"text\":\"Candlestick chart of actual and predicted prices\"}},                        {\"responsive\": true}                    ).then(function(){\n",
       "                            \n",
       "var gd = document.getElementById('f5f853f2-9576-4420-944d-767e53c95aa0');\n",
       "var x = new MutationObserver(function (mutations, observer) {{\n",
       "        var display = window.getComputedStyle(gd).display;\n",
       "        if (!display || display === 'none') {{\n",
       "            console.log([gd, 'removed!']);\n",
       "            Plotly.purge(gd);\n",
       "            observer.disconnect();\n",
       "        }}\n",
       "}});\n",
       "\n",
       "// Listen for the removal of the full notebook cells\n",
       "var notebookContainer = gd.closest('#notebook-container');\n",
       "if (notebookContainer) {{\n",
       "    x.observe(notebookContainer, {childList: true});\n",
       "}}\n",
       "\n",
       "// Listen for the clearing of the current output cell\n",
       "var outputEl = gd.closest('.output');\n",
       "if (outputEl) {{\n",
       "    x.observe(outputEl, {childList: true});\n",
       "}}\n",
       "\n",
       "                        })                };                });            </script>        </div>"
      ]
     },
     "metadata": {},
     "output_type": "display_data"
    }
   ],
   "source": [
    "import plotly.graph_objects as go\n",
    "\n",
    "# Define the period to plot\n",
    "plot_period = 3*N\n",
    "\n",
    "# Calculate the actual prices from the predicted percentage changes\n",
    "pred_prices_open = df['Open'].iloc[-1] * (1 + predictions['Open']).cumprod()\n",
    "pred_prices_high = df['High'].iloc[-1] * (1 + predictions['High']).cumprod()\n",
    "pred_prices_low = df['Low'].iloc[-1] * (1 + predictions['Low']).cumprod()\n",
    "pred_prices_close = df['Close'].iloc[-1] * (1 + predictions['Close']).cumprod()\n",
    "\n",
    "# Create a data frame for the predicted data\n",
    "pred_data = pd.DataFrame({\n",
    "    'Date': pd.date_range(start=df.index[-1], periods=X_days + 1)[1:],\n",
    "    'Open': pred_prices_open,\n",
    "    'High': pred_prices_high,\n",
    "    'Low': pred_prices_low,\n",
    "    'Close': pred_prices_close,\n",
    "})\n",
    "\n",
    "# Concatenate the actual and predicted data\n",
    "full_data = pd.concat([\n",
    "    df[['Open', 'High', 'Low', 'Close']].tail(plot_period),\n",
    "    pred_data.set_index('Date')\n",
    "])\n",
    "\n",
    "# Create a candlestick chart\n",
    "fig = go.Figure(data=[go.Candlestick(\n",
    "    x=full_data.index,\n",
    "    open=full_data['Open'],\n",
    "    high=full_data['High'],\n",
    "    low=full_data['Low'],\n",
    "    close=full_data['Close']\n",
    ")])\n",
    "\n",
    "# Set chart title\n",
    "fig.update_layout(title='Candlestick chart of actual and predicted prices')\n",
    "\n",
    "# Show chart\n",
    "fig.show()"
   ]
  },
  {
   "cell_type": "code",
   "execution_count": null,
   "id": "ec3c524b",
   "metadata": {},
   "outputs": [],
   "source": []
  }
 ],
 "metadata": {
  "kernelspec": {
   "display_name": "Python 3 (ipykernel)",
   "language": "python",
   "name": "python3"
  },
  "language_info": {
   "codemirror_mode": {
    "name": "ipython",
    "version": 3
   },
   "file_extension": ".py",
   "mimetype": "text/x-python",
   "name": "python",
   "nbconvert_exporter": "python",
   "pygments_lexer": "ipython3",
   "version": "3.10.9"
  }
 },
 "nbformat": 4,
 "nbformat_minor": 5
}
