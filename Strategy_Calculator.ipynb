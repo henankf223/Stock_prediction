{
 "cells": [
  {
   "cell_type": "code",
   "execution_count": 40,
   "id": "04e4f9f2",
   "metadata": {},
   "outputs": [
    {
     "name": "stdout",
     "output_type": "stream",
     "text": [
      "Your retirement savings after 50 years: $38.03\n"
     ]
    }
   ],
   "source": [
    "# Retirement saving calculator\n",
    "\n",
    "def retirement_savings(initial_saving, yearly_contribute, annual_raise, annual_return, years):\n",
    "    total_savings = initial_saving\n",
    "    for i in range(1, years + 1):\n",
    "        total_savings *= (1 + annual_return / 100)  # Grow savings with investment return\n",
    "        yearly_contribution = yearly_contribute * ((1 + annual_raise / 100) ** (i - 1))  # Adjust yearly contribution for annual raise\n",
    "        total_savings += yearly_contribution  # Add yearly contribution to savings\n",
    "\n",
    "    return total_savings\n",
    "\n",
    "# Example usage:\n",
    "initial_saving = 3000000\n",
    "yearly_contribute = 0\n",
    "annual_raise = 0\n",
    "annual_return = 3\n",
    "years = 50\n",
    "\n",
    "savings = retirement_savings(initial_saving, yearly_contribute, annual_raise, annual_return, years)\n",
    "print(f\"Your retirement savings after {years} years: ${savings:.2f}\")"
   ]
  },
  {
   "cell_type": "code",
   "execution_count": 45,
   "id": "a7440065",
   "metadata": {},
   "outputs": [
    {
     "name": "stdout",
     "output_type": "stream",
     "text": [
      "Your retirement savings after 50 years in today's dollars: $4,863,254.36\n",
      "Expected annual income at the retirement year in today's dollars: $0.00\n",
      "Expected monthly income at the retirement year in today's dollars: $0.00\n",
      "Present value of appreciated fixed-income investments 30 years after retirement in today's dollars: $2,003,596.40\n",
      "Expected annual income 30 years after retirement in today's dollars: $0.00\n",
      "Expected monthly income 30 years after retirement in today's dollars: $0.00\n"
     ]
    }
   ],
   "source": [
    "# Retirement saving considering future inflation\n",
    "\n",
    "def present_value_of_retirement_savings(initial_saving, yearly_contribute, annual_raise, annual_return, years, inflation_rate, fixed_income_return, fixed_income_appreciation, retirement_years=30):\n",
    "    total_savings = retirement_savings(initial_saving, yearly_contribute, annual_raise, annual_return, years)\n",
    "    present_value = total_savings / ((1 + inflation_rate / 100) ** years)\n",
    "\n",
    "    # Calculate the annual income from fixed-income investment\n",
    "    annual_income_retirement = total_savings * fixed_income_return / 100\n",
    "    appreciated_savings = total_savings * (1 + fixed_income_appreciation / 100) ** retirement_years\n",
    "    annual_income_30_years_later = appreciated_savings * fixed_income_return / 100\n",
    "    monthly_income_retirement = annual_income_retirement / 12\n",
    "    monthly_income_30_years_later = annual_income_30_years_later / 12\n",
    "\n",
    "    # Calculate the present value of the incomes in today's dollars\n",
    "    pv_annual_income_retirement = annual_income_retirement / (1 + inflation_rate / 100) ** years\n",
    "    pv_annual_income_30_years_later = annual_income_30_years_later / (1 + inflation_rate / 100) ** (years + retirement_years)\n",
    "    pv_monthly_income_retirement = monthly_income_retirement / (1 + inflation_rate / 100) ** years\n",
    "    pv_monthly_income_30_years_later = monthly_income_30_years_later / (1 + inflation_rate / 100) ** (years + retirement_years)\n",
    "\n",
    "    # Calculate the present value of appreciated fixed-income investments after retirement_years\n",
    "    pv_appreciated_value = appreciated_savings / (1 + inflation_rate / 100) ** (years + retirement_years)\n",
    "\n",
    "    return (\n",
    "        present_value,\n",
    "        pv_annual_income_retirement,\n",
    "        pv_monthly_income_retirement,\n",
    "        pv_annual_income_30_years_later,\n",
    "        pv_monthly_income_30_years_later,\n",
    "        pv_appreciated_value,\n",
    "    )\n",
    "\n",
    "# Example usage:\n",
    "initial_saving = 3000000\n",
    "yearly_contribute = 0\n",
    "annual_raise = 0\n",
    "annual_return = 4\n",
    "years = 50\n",
    "inflation_rate = 3\n",
    "fixed_income_return = 0\n",
    "fixed_income_appreciation = 0\n",
    "\n",
    "(\n",
    "    present_savings,\n",
    "    pv_annual_income_retirement,\n",
    "    pv_monthly_income_retirement,\n",
    "    pv_annual_income_30_years_later,\n",
    "    pv_monthly_income_30_years_later,\n",
    "    pv_appreciated_value,\n",
    ") = present_value_of_retirement_savings(initial_saving, yearly_contribute, annual_raise, annual_return, years, inflation_rate, fixed_income_return, fixed_income_appreciation)\n",
    "\n",
    "print(f\"Your retirement savings after {years} years in today's dollars: ${present_savings:,.2f}\")\n",
    "print(f\"Expected annual income at the retirement year in today's dollars: ${pv_annual_income_retirement:,.2f}\")\n",
    "print(f\"Expected monthly income at the retirement year in today's dollars: ${pv_monthly_income_retirement:,.2f}\")\n",
    "print(f\"Present value of appreciated fixed-income investments 30 years after retirement in today's dollars: ${pv_appreciated_value:,.2f}\")\n",
    "print(f\"Expected annual income 30 years after retirement in today's dollars: ${pv_annual_income_30_years_later:,.2f}\")\n",
    "print(f\"Expected monthly income 30 years after retirement in today's dollars: ${pv_monthly_income_30_years_later:,.2f}\")"
   ]
  },
  {
   "cell_type": "code",
   "execution_count": null,
   "id": "764a463a",
   "metadata": {},
   "outputs": [],
   "source": []
  }
 ],
 "metadata": {
  "kernelspec": {
   "display_name": "Python 3 (ipykernel)",
   "language": "python",
   "name": "python3"
  },
  "language_info": {
   "codemirror_mode": {
    "name": "ipython",
    "version": 3
   },
   "file_extension": ".py",
   "mimetype": "text/x-python",
   "name": "python",
   "nbconvert_exporter": "python",
   "pygments_lexer": "ipython3",
   "version": "3.10.9"
  }
 },
 "nbformat": 4,
 "nbformat_minor": 5
}
