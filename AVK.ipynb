{
 "cells": [
  {
   "cell_type": "markdown",
   "id": "015605bb-6ea2-4252-94b7-c37dc7073aea",
   "metadata": {},
   "source": [
    "Alpha vantage Key: XXRZUURYNB2U6S8Y"
   ]
  },
  {
   "cell_type": "code",
   "execution_count": null,
   "id": "4646d038-9d23-438b-8485-fd50f6d29c37",
   "metadata": {},
   "outputs": [],
   "source": []
  }
 ],
 "metadata": {
  "kernelspec": {
   "display_name": "Python 3 (ipykernel)",
   "language": "python",
   "name": "python3"
  },
  "language_info": {
   "codemirror_mode": {
    "name": "ipython",
    "version": 3
   },
   "file_extension": ".py",
   "mimetype": "text/x-python",
   "name": "python",
   "nbconvert_exporter": "python",
   "pygments_lexer": "ipython3",
   "version": "3.12.4"
  }
 },
 "nbformat": 4,
 "nbformat_minor": 5
}
